{
 "cells": [
  {
   "cell_type": "code",
   "execution_count": null,
   "id": "f948474b-c8cd-4692-b0cf-1a326cb887ea",
   "metadata": {},
   "outputs": [],
   "source": [
    "Python List Dict Programs"
   ]
  },
  {
   "cell_type": "code",
   "execution_count": 1,
   "id": "25e431a9-88fa-474f-9d08-6ea679eeeefc",
   "metadata": {},
   "outputs": [
    {
     "data": {
      "text/plain": [
       "{1: 1, 2: 2, 3: 3, 4: 4, 5: 5}"
      ]
     },
     "execution_count": 1,
     "metadata": {},
     "output_type": "execute_result"
    }
   ],
   "source": [
    "# Count Frequency of Elements in a List Using a Dictionary\n",
    "count_frequency_list = [1, 2, 2, 3, 3, 3, 4, 4, 4, 4, 5, 5, 5, 5, 5]\n",
    "result = {}\n",
    "\n",
    "\n",
    "def count_frequency_elements():\n",
    "    for i in count_frequency_list:\n",
    "        if i in result:\n",
    "            result[i]+=1\n",
    "        else:\n",
    "            result[i] = 1\n",
    "    return result\n",
    "\n",
    "count_frequency_elements()"
   ]
  },
  {
   "cell_type": "code",
   "execution_count": 2,
   "id": "08679c63-caf2-4e8b-a9be-48900fd08822",
   "metadata": {},
   "outputs": [
    {
     "data": {
      "text/plain": [
       "{'x': [1, 2, 3], 'y': [1, 2], 'z': [1]}"
      ]
     },
     "execution_count": 2,
     "metadata": {},
     "output_type": "execute_result"
    }
   ],
   "source": [
    "# Grouping Elements of a List into a Dictionary\n",
    "\n",
    "list_elements = [(\"x\", 1), (\"x\", 2), (\"x\", 3), (\"y\", 1), (\"y\", 2), (\"z\", 1)]\n",
    "result = {}\n",
    "\n",
    "\n",
    "def grouped_elements():\n",
    "    for key, val in list_elements:\n",
    "        if key not in result:\n",
    "            result[key] = []\n",
    "        result[key].append(val)\n",
    "    # print(result)\n",
    "    return result\n",
    "\n",
    "grouped_elements()"
   ]
  },
  {
   "cell_type": "code",
   "execution_count": 3,
   "id": "5b0a747d-229c-4908-9d4a-03603f714c6e",
   "metadata": {},
   "outputs": [
    {
     "data": {
      "text/plain": [
       "{'a': 1, 'b': 2, 'c': 3}"
      ]
     },
     "execution_count": 3,
     "metadata": {},
     "output_type": "execute_result"
    }
   ],
   "source": [
    "#  Convert a List of Tuples into a Dictionary\n",
    "tuples_list = [('a', 1), ('b', 2), ('c', 3)]\n",
    "convert = {}\n",
    "\n",
    "\n",
    "def convert_list_tuples_to_dict():\n",
    "    for key, val in tuples_list:\n",
    "        convert[key] = val\n",
    "    return convert\n",
    "convert_list_tuples_to_dict()"
   ]
  }
 ],
 "metadata": {
  "kernelspec": {
   "display_name": "Python 3 (ipykernel)",
   "language": "python",
   "name": "python3"
  },
  "language_info": {
   "codemirror_mode": {
    "name": "ipython",
    "version": 3
   },
   "file_extension": ".py",
   "mimetype": "text/x-python",
   "name": "python",
   "nbconvert_exporter": "python",
   "pygments_lexer": "ipython3",
   "version": "3.11.9"
  }
 },
 "nbformat": 4,
 "nbformat_minor": 5
}
